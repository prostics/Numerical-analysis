{
 "cells": [
  {
   "cell_type": "code",
   "execution_count": 1,
   "metadata": {
    "colab": {},
    "colab_type": "code",
    "id": "kJ78UFbARpJX"
   },
   "outputs": [],
   "source": [
    "import pandas as pd\n",
    "from math import pi\n",
    "from scipy.integrate import odeint\n",
    "import matplotlib.pyplot as plt"
   ]
  },
  {
   "cell_type": "code",
   "execution_count": 4,
   "metadata": {
    "colab": {},
    "colab_type": "code",
    "id": "7X_Qn1YbSmD9"
   },
   "outputs": [],
   "source": [
    "def euler(function,x0,y0,h,epsilon,b):\n",
    "    x = [x0]\n",
    "    y = [y0]\n",
    "    while x[-1] <= b:\n",
    "        y1 = y[-1] + h*function(x[-1],y[-1])\n",
    "        y1_ = y[-1] + h/2*function(x[-1],y[-1])\n",
    "        y2_ = y1_ + h/2*function(x[-1] + h/2,y1_)\n",
    "        if abs(y2_ - y1) > epsilon:\n",
    "            h = h/2\n",
    "            y.append(y2_)\n",
    "        else:\n",
    "            y.append(y1)\n",
    "        x.append(x[-1]+h)\n",
    "    return pd.DataFrame({'xi': x, 'yi': y}) "
   ]
  },
  {
   "cell_type": "code",
   "execution_count": 2,
   "metadata": {
    "colab": {},
    "colab_type": "code",
    "id": "iLWgteiqPtRl"
   },
   "outputs": [],
   "source": [
    "def function(x,y):\n",
    "    return  y/x + x*(x**2 - y**2)**0.5"
   ]
  },
  {
   "cell_type": "code",
   "execution_count": 5,
   "metadata": {
    "colab": {
     "base_uri": "https://localhost:8080/",
     "height": 1000
    },
    "colab_type": "code",
    "id": "0IOxXy8ZaNeh",
    "outputId": "9ec52f6e-7f27-47d4-ebe9-94531720bb9c"
   },
   "outputs": [
    {
     "data": {
      "text/html": [
       "<div>\n",
       "<style scoped>\n",
       "    .dataframe tbody tr th:only-of-type {\n",
       "        vertical-align: middle;\n",
       "    }\n",
       "\n",
       "    .dataframe tbody tr th {\n",
       "        vertical-align: top;\n",
       "    }\n",
       "\n",
       "    .dataframe thead th {\n",
       "        text-align: right;\n",
       "    }\n",
       "</style>\n",
       "<table border=\"1\" class=\"dataframe\">\n",
       "  <thead>\n",
       "    <tr style=\"text-align: right;\">\n",
       "      <th></th>\n",
       "      <th>xi</th>\n",
       "      <th>yi</th>\n",
       "    </tr>\n",
       "  </thead>\n",
       "  <tbody>\n",
       "    <tr>\n",
       "      <th>0</th>\n",
       "      <td>1.772454</td>\n",
       "      <td>1.772454</td>\n",
       "    </tr>\n",
       "    <tr>\n",
       "      <th>1</th>\n",
       "      <td>1.872454</td>\n",
       "      <td>1.872454</td>\n",
       "    </tr>\n",
       "    <tr>\n",
       "      <th>2</th>\n",
       "      <td>1.972454</td>\n",
       "      <td>1.972454</td>\n",
       "    </tr>\n",
       "    <tr>\n",
       "      <th>3</th>\n",
       "      <td>2.072454</td>\n",
       "      <td>2.072454</td>\n",
       "    </tr>\n",
       "    <tr>\n",
       "      <th>4</th>\n",
       "      <td>2.172454</td>\n",
       "      <td>2.172454</td>\n",
       "    </tr>\n",
       "    <tr>\n",
       "      <th>5</th>\n",
       "      <td>2.272454</td>\n",
       "      <td>2.272454</td>\n",
       "    </tr>\n",
       "  </tbody>\n",
       "</table>\n",
       "</div>"
      ],
      "text/plain": [
       "         xi        yi\n",
       "0  1.772454  1.772454\n",
       "1  1.872454  1.872454\n",
       "2  1.972454  1.972454\n",
       "3  2.072454  2.072454\n",
       "4  2.172454  2.172454\n",
       "5  2.272454  2.272454"
      ]
     },
     "execution_count": 5,
     "metadata": {},
     "output_type": "execute_result"
    }
   ],
   "source": [
    "my_answer = euler(function,pi**0.5,pi**0.5,h,epsilon,pi**0.5 + 0.5)\n",
    "my_answer"
   ]
  },
  {
   "cell_type": "code",
   "execution_count": 7,
   "metadata": {},
   "outputs": [],
   "source": [
    "z = odeint(function,pi**0.5,list(my_answer.xi))"
   ]
  },
  {
   "cell_type": "code",
   "execution_count": 8,
   "metadata": {},
   "outputs": [],
   "source": [
    "my_answer['scipy'] = z"
   ]
  },
  {
   "cell_type": "code",
   "execution_count": 9,
   "metadata": {},
   "outputs": [],
   "source": [
    "my_answer['error'] = abs(my_answer['scipy'] - my_answer['yi'])"
   ]
  },
  {
   "cell_type": "code",
   "execution_count": 10,
   "metadata": {},
   "outputs": [
    {
     "data": {
      "text/html": [
       "<div>\n",
       "<style scoped>\n",
       "    .dataframe tbody tr th:only-of-type {\n",
       "        vertical-align: middle;\n",
       "    }\n",
       "\n",
       "    .dataframe tbody tr th {\n",
       "        vertical-align: top;\n",
       "    }\n",
       "\n",
       "    .dataframe thead th {\n",
       "        text-align: right;\n",
       "    }\n",
       "</style>\n",
       "<table border=\"1\" class=\"dataframe\">\n",
       "  <thead>\n",
       "    <tr style=\"text-align: right;\">\n",
       "      <th></th>\n",
       "      <th>xi</th>\n",
       "      <th>yi</th>\n",
       "      <th>scipy</th>\n",
       "      <th>error</th>\n",
       "    </tr>\n",
       "  </thead>\n",
       "  <tbody>\n",
       "    <tr>\n",
       "      <th>0</th>\n",
       "      <td>1.772454</td>\n",
       "      <td>1.772454</td>\n",
       "      <td>1.772454</td>\n",
       "      <td>0.0</td>\n",
       "    </tr>\n",
       "    <tr>\n",
       "      <th>1</th>\n",
       "      <td>1.872454</td>\n",
       "      <td>1.872454</td>\n",
       "      <td>1.872454</td>\n",
       "      <td>0.0</td>\n",
       "    </tr>\n",
       "    <tr>\n",
       "      <th>2</th>\n",
       "      <td>1.972454</td>\n",
       "      <td>1.972454</td>\n",
       "      <td>1.972454</td>\n",
       "      <td>0.0</td>\n",
       "    </tr>\n",
       "    <tr>\n",
       "      <th>3</th>\n",
       "      <td>2.072454</td>\n",
       "      <td>2.072454</td>\n",
       "      <td>2.072454</td>\n",
       "      <td>0.0</td>\n",
       "    </tr>\n",
       "    <tr>\n",
       "      <th>4</th>\n",
       "      <td>2.172454</td>\n",
       "      <td>2.172454</td>\n",
       "      <td>2.172454</td>\n",
       "      <td>0.0</td>\n",
       "    </tr>\n",
       "    <tr>\n",
       "      <th>5</th>\n",
       "      <td>2.272454</td>\n",
       "      <td>2.272454</td>\n",
       "      <td>2.272454</td>\n",
       "      <td>0.0</td>\n",
       "    </tr>\n",
       "  </tbody>\n",
       "</table>\n",
       "</div>"
      ],
      "text/plain": [
       "         xi        yi     scipy  error\n",
       "0  1.772454  1.772454  1.772454    0.0\n",
       "1  1.872454  1.872454  1.872454    0.0\n",
       "2  1.972454  1.972454  1.972454    0.0\n",
       "3  2.072454  2.072454  2.072454    0.0\n",
       "4  2.172454  2.172454  2.172454    0.0\n",
       "5  2.272454  2.272454  2.272454    0.0"
      ]
     },
     "execution_count": 10,
     "metadata": {},
     "output_type": "execute_result"
    }
   ],
   "source": [
    "my_answer"
   ]
  },
  {
   "cell_type": "code",
   "execution_count": 12,
   "metadata": {},
   "outputs": [
    {
     "data": {
      "image/png": "[encoded data removed]",
      "text/plain": [
       "<Figure size 432x288 with 1 Axes>"
      ]
     },
     "metadata": {
      "needs_background": "light"
     },
     "output_type": "display_data"
    }
   ],
   "source": [
    "plt.plot(list(my_answer.xi),z,'b-',label=r'scipy solution')\n",
    "plt.plot(list(my_answer.xi),list(my_answer.yi),'r--',label=r'my solution')\n",
    "plt.ylabel('response')\n",
    "plt.xlabel('time')\n",
    "plt.legend(loc='best')\n",
    "plt.show()"
   ]
  },
  {
   "cell_type": "code",
   "execution_count": null,
   "metadata": {},
   "outputs": [],
   "source": []
  }
 ],
 "metadata": {
  "colab": {
   "name": "Untitled4.ipynb",
   "provenance": []
  },
  "kernelspec": {
   "display_name": "Python 3",
   "language": "python",
   "name": "python3"
  },
  "language_info": {
   "codemirror_mode": {
    "name": "ipython",
    "version": 3
   },
   "file_extension": ".py",
   "mimetype": "text/x-python",
   "name": "python",
   "nbconvert_exporter": "python",
   "pygments_lexer": "ipython3",
   "version": "3.7.6"
  }
 },
 "nbformat": 4,
 "nbformat_minor": 4
}
